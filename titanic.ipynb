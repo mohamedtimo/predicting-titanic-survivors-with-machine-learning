{
 "cells": [
  {
   "cell_type": "code",
   "execution_count": 1,
   "metadata": {},
   "outputs": [],
   "source": [
    "# numpy, matplotlib, seaborn, pandas\n",
    "import numpy as np\n",
    "import pandas as pd \n",
    "import matplotlib.pyplot as plt\n",
    "import seaborn as sns\n",
    "sns.set_style('whitegrid')\n",
    "%matplotlib inline\n",
    "\n",
    "# machine learning\n",
    "from sklearn.ensemble import RandomForestClassifier\n",
    "from sklearn.model_selection import train_test_split\n",
    "\n",
    "# Ignore warnings thrown by Seaborn\n",
    "import warnings\n",
    "warnings.filterwarnings('ignore')"
   ]
  },
  {
   "cell_type": "code",
   "execution_count": 2,
   "metadata": {},
   "outputs": [
    {
     "data": {
      "text/html": [
       "<div>\n",
       "<style scoped>\n",
       "    .dataframe tbody tr th:only-of-type {\n",
       "        vertical-align: middle;\n",
       "    }\n",
       "\n",
       "    .dataframe tbody tr th {\n",
       "        vertical-align: top;\n",
       "    }\n",
       "\n",
       "    .dataframe thead th {\n",
       "        text-align: right;\n",
       "    }\n",
       "</style>\n",
       "<table border=\"1\" class=\"dataframe\">\n",
       "  <thead>\n",
       "    <tr style=\"text-align: right;\">\n",
       "      <th></th>\n",
       "      <th>PassengerId</th>\n",
       "      <th>Survived</th>\n",
       "      <th>Pclass</th>\n",
       "      <th>Name</th>\n",
       "      <th>Sex</th>\n",
       "      <th>Age</th>\n",
       "      <th>SibSp</th>\n",
       "      <th>Parch</th>\n",
       "      <th>Ticket</th>\n",
       "      <th>Fare</th>\n",
       "      <th>Cabin</th>\n",
       "      <th>Embarked</th>\n",
       "    </tr>\n",
       "  </thead>\n",
       "  <tbody>\n",
       "    <tr>\n",
       "      <th>0</th>\n",
       "      <td>1</td>\n",
       "      <td>0</td>\n",
       "      <td>3</td>\n",
       "      <td>Braund, Mr. Owen Harris</td>\n",
       "      <td>male</td>\n",
       "      <td>22.0</td>\n",
       "      <td>1</td>\n",
       "      <td>0</td>\n",
       "      <td>A/5 21171</td>\n",
       "      <td>7.2500</td>\n",
       "      <td>NaN</td>\n",
       "      <td>S</td>\n",
       "    </tr>\n",
       "    <tr>\n",
       "      <th>1</th>\n",
       "      <td>2</td>\n",
       "      <td>1</td>\n",
       "      <td>1</td>\n",
       "      <td>Cumings, Mrs. John Bradley (Florence Briggs Th...</td>\n",
       "      <td>female</td>\n",
       "      <td>38.0</td>\n",
       "      <td>1</td>\n",
       "      <td>0</td>\n",
       "      <td>PC 17599</td>\n",
       "      <td>71.2833</td>\n",
       "      <td>C85</td>\n",
       "      <td>C</td>\n",
       "    </tr>\n",
       "    <tr>\n",
       "      <th>2</th>\n",
       "      <td>3</td>\n",
       "      <td>1</td>\n",
       "      <td>3</td>\n",
       "      <td>Heikkinen, Miss. Laina</td>\n",
       "      <td>female</td>\n",
       "      <td>26.0</td>\n",
       "      <td>0</td>\n",
       "      <td>0</td>\n",
       "      <td>STON/O2. 3101282</td>\n",
       "      <td>7.9250</td>\n",
       "      <td>NaN</td>\n",
       "      <td>S</td>\n",
       "    </tr>\n",
       "    <tr>\n",
       "      <th>3</th>\n",
       "      <td>4</td>\n",
       "      <td>1</td>\n",
       "      <td>1</td>\n",
       "      <td>Futrelle, Mrs. Jacques Heath (Lily May Peel)</td>\n",
       "      <td>female</td>\n",
       "      <td>35.0</td>\n",
       "      <td>1</td>\n",
       "      <td>0</td>\n",
       "      <td>113803</td>\n",
       "      <td>53.1000</td>\n",
       "      <td>C123</td>\n",
       "      <td>S</td>\n",
       "    </tr>\n",
       "    <tr>\n",
       "      <th>4</th>\n",
       "      <td>5</td>\n",
       "      <td>0</td>\n",
       "      <td>3</td>\n",
       "      <td>Allen, Mr. William Henry</td>\n",
       "      <td>male</td>\n",
       "      <td>35.0</td>\n",
       "      <td>0</td>\n",
       "      <td>0</td>\n",
       "      <td>373450</td>\n",
       "      <td>8.0500</td>\n",
       "      <td>NaN</td>\n",
       "      <td>S</td>\n",
       "    </tr>\n",
       "  </tbody>\n",
       "</table>\n",
       "</div>"
      ],
      "text/plain": [
       "   PassengerId  Survived  Pclass  \\\n",
       "0            1         0       3   \n",
       "1            2         1       1   \n",
       "2            3         1       3   \n",
       "3            4         1       1   \n",
       "4            5         0       3   \n",
       "\n",
       "                                                Name     Sex   Age  SibSp  \\\n",
       "0                            Braund, Mr. Owen Harris    male  22.0      1   \n",
       "1  Cumings, Mrs. John Bradley (Florence Briggs Th...  female  38.0      1   \n",
       "2                             Heikkinen, Miss. Laina  female  26.0      0   \n",
       "3       Futrelle, Mrs. Jacques Heath (Lily May Peel)  female  35.0      1   \n",
       "4                           Allen, Mr. William Henry    male  35.0      0   \n",
       "\n",
       "   Parch            Ticket     Fare Cabin Embarked  \n",
       "0      0         A/5 21171   7.2500   NaN        S  \n",
       "1      0          PC 17599  71.2833   C85        C  \n",
       "2      0  STON/O2. 3101282   7.9250   NaN        S  \n",
       "3      0            113803  53.1000  C123        S  \n",
       "4      0            373450   8.0500   NaN        S  "
      ]
     },
     "execution_count": 2,
     "metadata": {},
     "output_type": "execute_result"
    }
   ],
   "source": [
    "# get titanic & test csv files as a DataFrame\n",
    "titanic_df = pd.read_csv(\"train.csv\")\n",
    "test_df    = pd.read_csv(\"test.csv\")\n",
    "\n",
    "# preview the data\n",
    "titanic_df.head()"
   ]
  },
  {
   "cell_type": "code",
   "execution_count": 3,
   "metadata": {},
   "outputs": [
    {
     "name": "stdout",
     "output_type": "stream",
     "text": [
      "PassengerId      int64\n",
      "Survived         int64\n",
      "Pclass           int64\n",
      "Name            object\n",
      "Sex             object\n",
      "Age            float64\n",
      "SibSp            int64\n",
      "Parch            int64\n",
      "Ticket          object\n",
      "Fare           float64\n",
      "Cabin           object\n",
      "Embarked        object\n",
      "dtype: object\n",
      "________________________________________\n",
      "PassengerId      0\n",
      "Survived         0\n",
      "Pclass           0\n",
      "Name             0\n",
      "Sex              0\n",
      "Age            177\n",
      "SibSp            0\n",
      "Parch            0\n",
      "Ticket           0\n",
      "Fare             0\n",
      "Cabin          687\n",
      "Embarked         2\n",
      "dtype: int64\n"
     ]
    }
   ],
   "source": [
    "# Understand the datatypes\n",
    "print(titanic_df.dtypes)\n",
    "print('_'*40)\n",
    "# Focus first on null values\n",
    "print(titanic_df.isna().sum())"
   ]
  },
  {
   "cell_type": "code",
   "execution_count": 4,
   "metadata": {},
   "outputs": [
    {
     "name": "stdout",
     "output_type": "stream",
     "text": [
      "<class 'pandas.core.frame.DataFrame'>\n",
      "RangeIndex: 891 entries, 0 to 890\n",
      "Data columns (total 12 columns):\n",
      "PassengerId    891 non-null int64\n",
      "Survived       891 non-null int64\n",
      "Pclass         891 non-null int64\n",
      "Name           891 non-null object\n",
      "Sex            891 non-null object\n",
      "Age            714 non-null float64\n",
      "SibSp          891 non-null int64\n",
      "Parch          891 non-null int64\n",
      "Ticket         891 non-null object\n",
      "Fare           891 non-null float64\n",
      "Cabin          204 non-null object\n",
      "Embarked       889 non-null object\n",
      "dtypes: float64(2), int64(5), object(5)\n",
      "memory usage: 83.6+ KB\n",
      "----------------------------\n",
      "<class 'pandas.core.frame.DataFrame'>\n",
      "RangeIndex: 418 entries, 0 to 417\n",
      "Data columns (total 11 columns):\n",
      "PassengerId    418 non-null int64\n",
      "Pclass         418 non-null int64\n",
      "Name           418 non-null object\n",
      "Sex            418 non-null object\n",
      "Age            332 non-null float64\n",
      "SibSp          418 non-null int64\n",
      "Parch          418 non-null int64\n",
      "Ticket         418 non-null object\n",
      "Fare           417 non-null float64\n",
      "Cabin          91 non-null object\n",
      "Embarked       418 non-null object\n",
      "dtypes: float64(2), int64(4), object(5)\n",
      "memory usage: 36.0+ KB\n"
     ]
    }
   ],
   "source": [
    "titanic_df.info()\n",
    "print(\"----------------------------\")\n",
    "test_df.info()"
   ]
  },
  {
   "cell_type": "code",
   "execution_count": 5,
   "metadata": {},
   "outputs": [
    {
     "name": "stdout",
     "output_type": "stream",
     "text": [
      "PassengerId      int64\n",
      "Pclass           int64\n",
      "Name            object\n",
      "Sex             object\n",
      "Age            float64\n",
      "SibSp            int64\n",
      "Parch            int64\n",
      "Ticket          object\n",
      "Fare           float64\n",
      "Cabin           object\n",
      "Embarked        object\n",
      "dtype: object\n",
      "________________________________________\n",
      "PassengerId      0\n",
      "Pclass           0\n",
      "Name             0\n",
      "Sex              0\n",
      "Age             86\n",
      "SibSp            0\n",
      "Parch            0\n",
      "Ticket           0\n",
      "Fare             1\n",
      "Cabin          327\n",
      "Embarked         0\n",
      "dtype: int64\n"
     ]
    }
   ],
   "source": [
    "print(test_df.dtypes)\n",
    "print('_'*40)\n",
    "print(test_df.isna().sum())"
   ]
  },
  {
   "cell_type": "code",
   "execution_count": 6,
   "metadata": {},
   "outputs": [
    {
     "name": "stdout",
     "output_type": "stream",
     "text": [
      "          Survived    Pclass       Age     SibSp     Parch      Fare\n",
      "Survived  1.000000 -0.338481 -0.077221 -0.035322  0.081629  0.257307\n",
      "Pclass   -0.338481  1.000000 -0.369226  0.083081  0.018443 -0.549500\n",
      "Age      -0.077221 -0.369226  1.000000 -0.308247 -0.189119  0.096067\n",
      "SibSp    -0.035322  0.083081 -0.308247  1.000000  0.414838  0.159651\n",
      "Parch     0.081629  0.018443 -0.189119  0.414838  1.000000  0.216225\n",
      "Fare      0.257307 -0.549500  0.096067  0.159651  0.216225  1.000000\n"
     ]
    },
    {
     "data": {
      "text/plain": [
       "<matplotlib.axes._subplots.AxesSubplot at 0x2136a35dfd0>"
      ]
     },
     "execution_count": 6,
     "metadata": {},
     "output_type": "execute_result"
    },
    {
     "data": {
      "image/png": "[encoded data removed]",
      "text/plain": [
       "<Figure size 432x288 with 2 Axes>"
      ]
     },
     "metadata": {},
     "output_type": "display_data"
    }
   ],
   "source": [
    "# Check the correlation for the current numeric feature set.\n",
    "print(titanic_df[['Survived', 'Pclass', 'Age', 'SibSp', 'Parch', 'Fare']].corr())\n",
    "sns.heatmap(titanic_df[['Survived', 'Pclass', 'Age', 'SibSp', 'Parch', 'Fare']].corr(), annot=True, fmt = \".2f\", cmap = \"coolwarm\")"
   ]
  },
  {
   "cell_type": "code",
   "execution_count": 7,
   "metadata": {},
   "outputs": [
    {
     "name": "stdout",
     "output_type": "stream",
     "text": [
      "        Survived\n",
      "Pclass          \n",
      "1       0.629630\n",
      "2       0.472826\n",
      "3       0.242363\n"
     ]
    },
    {
     "data": {
      "text/plain": [
       "<seaborn.axisgrid.FacetGrid at 0x2136a0cd048>"
      ]
     },
     "execution_count": 7,
     "metadata": {},
     "output_type": "execute_result"
    },
    {
     "data": {
      "image/png": "[encoded data removed]",
      "text/plain": [
       "<Figure size 360x360 with 1 Axes>"
      ]
     },
     "metadata": {},
     "output_type": "display_data"
    }
   ],
   "source": [
    "# Lets see the relation between Pclass and Survived\n",
    "print(titanic_df[['Pclass', 'Survived']].groupby(['Pclass']).mean())\n",
    "sns.catplot(x='Pclass', y='Survived',  kind='bar', data=titanic_df)"
   ]
  },
  {
   "cell_type": "code",
   "execution_count": 8,
   "metadata": {},
   "outputs": [
    {
     "name": "stdout",
     "output_type": "stream",
     "text": [
      "        Survived\n",
      "Sex             \n",
      "female  0.742038\n",
      "male    0.188908\n"
     ]
    },
    {
     "data": {
      "text/plain": [
       "<seaborn.axisgrid.FacetGrid at 0x2136c58c208>"
      ]
     },
     "execution_count": 8,
     "metadata": {},
     "output_type": "execute_result"
    },
    {
     "data": {
      "image/png": "[encoded data removed]",
      "text/plain": [
       "<Figure size 360x360 with 1 Axes>"
      ]
     },
     "metadata": {},
     "output_type": "display_data"
    }
   ],
   "source": [
    "print(titanic_df[['Sex', 'Survived']].groupby(['Sex']).mean())\n",
    "sns.catplot(x='Sex', y='Survived',  kind='bar', data=titanic_df)"
   ]
  },
  {
   "cell_type": "code",
   "execution_count": 9,
   "metadata": {},
   "outputs": [
    {
     "data": {
      "text/plain": [
       "<seaborn.axisgrid.FacetGrid at 0x2136a449978>"
      ]
     },
     "execution_count": 9,
     "metadata": {},
     "output_type": "execute_result"
    },
    {
     "data": {
      "image/png": "[encoded data removed]",
      "text/plain": [
       "<Figure size 401.625x360 with 1 Axes>"
      ]
     },
     "metadata": {},
     "output_type": "display_data"
    }
   ],
   "source": [
    "sns.catplot(x='Sex', y='Survived',  kind='bar', data=titanic_df, hue='Pclass')"
   ]
  },
  {
   "cell_type": "code",
   "execution_count": 10,
   "metadata": {},
   "outputs": [
    {
     "data": {
      "image/png": "[encoded data removed]",
      "text/plain": [
       "<Figure size 432x216 with 2 Axes>"
      ]
     },
     "metadata": {},
     "output_type": "display_data"
    }
   ],
   "source": [
    "g = sns.FacetGrid(titanic_df, col='Survived')\n",
    "g = g.map(sns.distplot, \"Fare\")"
   ]
  },
  {
   "cell_type": "code",
   "execution_count": 11,
   "metadata": {},
   "outputs": [
    {
     "data": {
      "text/plain": [
       "<matplotlib.axes._subplots.AxesSubplot at 0x2136c85a198>"
      ]
     },
     "execution_count": 11,
     "metadata": {},
     "output_type": "execute_result"
    },
    {
     "data": {
      "image/png": "[encoded data removed]",
      "text/plain": [
       "<Figure size 432x288 with 1 Axes>"
      ]
     },
     "metadata": {},
     "output_type": "display_data"
    }
   ],
   "source": [
    "group = pd.cut(titanic_df.Fare, [0,50,100,150,200,550])\n",
    "piv_fare = titanic_df.pivot_table(index=group, columns='Survived', values = 'Fare', aggfunc='count')\n",
    "piv_fare.plot(kind='bar')"
   ]
  },
  {
   "cell_type": "code",
   "execution_count": 12,
   "metadata": {},
   "outputs": [
    {
     "data": {
      "image/png": "[encoded data removed]",
      "text/plain": [
       "<Figure size 432x216 with 2 Axes>"
      ]
     },
     "metadata": {},
     "output_type": "display_data"
    }
   ],
   "source": [
    "g = sns.FacetGrid(titanic_df, col='Survived')\n",
    "g = g.map(sns.distplot, \"Age\")"
   ]
  },
  {
   "cell_type": "code",
   "execution_count": 13,
   "metadata": {},
   "outputs": [
    {
     "data": {
      "text/plain": [
       "<matplotlib.axes._subplots.AxesSubplot at 0x2136ca14ba8>"
      ]
     },
     "execution_count": 13,
     "metadata": {},
     "output_type": "execute_result"
    },
    {
     "data": {
      "image/png": "[encoded data removed]",
      "text/plain": [
       "<Figure size 432x288 with 1 Axes>"
      ]
     },
     "metadata": {},
     "output_type": "display_data"
    }
   ],
   "source": [
    "group = pd.cut(titanic_df.Age, [0,14,30,60,100])\n",
    "piv_fare = titanic_df.pivot_table(index=group, columns='Survived', values = 'Age', aggfunc='count')\n",
    "piv_fare.plot(kind='bar')"
   ]
  },
  {
   "cell_type": "code",
   "execution_count": 14,
   "metadata": {},
   "outputs": [
    {
     "name": "stdout",
     "output_type": "stream",
     "text": [
      "          Survived\n",
      "Embarked          \n",
      "C         0.553571\n",
      "Q         0.389610\n",
      "S         0.336957\n"
     ]
    },
    {
     "data": {
      "text/plain": [
       "<seaborn.axisgrid.FacetGrid at 0x2136ca039e8>"
      ]
     },
     "execution_count": 14,
     "metadata": {},
     "output_type": "execute_result"
    },
    {
     "data": {
      "image/png": "[encoded data removed]",
      "text/plain": [
       "<Figure size 360x360 with 1 Axes>"
      ]
     },
     "metadata": {},
     "output_type": "display_data"
    }
   ],
   "source": [
    "print(titanic_df[['Embarked', 'Survived']].groupby(['Embarked']).mean())\n",
    "sns.catplot(x='Embarked', y='Survived',  kind='bar', data=titanic_df)"
   ]
  },
  {
   "cell_type": "code",
   "execution_count": 15,
   "metadata": {},
   "outputs": [
    {
     "data": {
      "text/plain": [
       "<seaborn.axisgrid.FacetGrid at 0x2136c9120b8>"
      ]
     },
     "execution_count": 15,
     "metadata": {},
     "output_type": "execute_result"
    },
    {
     "data": {
      "image/png": "[encoded data removed]",
      "text/plain": [
       "<Figure size 1080x360 with 3 Axes>"
      ]
     },
     "metadata": {},
     "output_type": "display_data"
    }
   ],
   "source": [
    "sns.catplot('Pclass', kind='count', col='Embarked', data=titanic_df)"
   ]
  },
  {
   "cell_type": "code",
   "execution_count": 16,
   "metadata": {},
   "outputs": [
    {
     "name": "stdout",
     "output_type": "stream",
     "text": [
      "       Survived\n",
      "SibSp          \n",
      "0      0.345395\n",
      "1      0.535885\n",
      "2      0.464286\n",
      "3      0.250000\n",
      "4      0.166667\n",
      "5      0.000000\n",
      "8      0.000000\n"
     ]
    },
    {
     "data": {
      "text/plain": [
       "<seaborn.axisgrid.FacetGrid at 0x2136cd68128>"
      ]
     },
     "execution_count": 16,
     "metadata": {},
     "output_type": "execute_result"
    },
    {
     "data": {
      "image/png": "[encoded data removed]",
      "text/plain": [
       "<Figure size 360x360 with 1 Axes>"
      ]
     },
     "metadata": {},
     "output_type": "display_data"
    }
   ],
   "source": [
    "print(titanic_df[['SibSp', 'Survived']].groupby(['SibSp']).mean())\n",
    "sns.catplot(x='SibSp', y='Survived', data=titanic_df, kind='bar')"
   ]
  },
  {
   "cell_type": "code",
   "execution_count": 17,
   "metadata": {},
   "outputs": [
    {
     "name": "stdout",
     "output_type": "stream",
     "text": [
      "       Survived\n",
      "Parch          \n",
      "0      0.343658\n",
      "1      0.550847\n",
      "2      0.500000\n",
      "3      0.600000\n",
      "4      0.000000\n",
      "5      0.200000\n",
      "6      0.000000\n"
     ]
    },
    {
     "data": {
      "text/plain": [
       "<seaborn.axisgrid.FacetGrid at 0x2136df45588>"
      ]
     },
     "execution_count": 17,
     "metadata": {},
     "output_type": "execute_result"
    },
    {
     "data": {
      "image/png": "[encoded data removed]",
      "text/plain": [
       "<Figure size 360x360 with 1 Axes>"
      ]
     },
     "metadata": {},
     "output_type": "display_data"
    }
   ],
   "source": [
    "print(titanic_df[['Parch', 'Survived']].groupby(['Parch']).mean())\n",
    "sns.catplot(x='Parch', y='Survived', data=titanic_df, kind='bar')"
   ]
  },
  {
   "cell_type": "code",
   "execution_count": 18,
   "metadata": {},
   "outputs": [
    {
     "name": "stdout",
     "output_type": "stream",
     "text": [
      "Mr              517\n",
      "Miss            182\n",
      "Mrs             125\n",
      "Master           40\n",
      "Dr                7\n",
      "Rev               6\n",
      "Mlle              2\n",
      "Major             2\n",
      "Col               2\n",
      "Sir               1\n",
      "Don               1\n",
      "Jonkheer          1\n",
      "Lady              1\n",
      "Mme               1\n",
      "Ms                1\n",
      "the Countess      1\n",
      "Capt              1\n",
      "Name: Title, dtype: int64\n",
      "\n",
      "Mr        240\n",
      "Miss       78\n",
      "Mrs        72\n",
      "Master     21\n",
      "Rev         2\n",
      "Col         2\n",
      "Dr          1\n",
      "Dona        1\n",
      "Ms          1\n",
      "Name: Title, dtype: int64\n",
      "\n"
     ]
    }
   ],
   "source": [
    "# Get the titles\n",
    "for dataset in [titanic_df, test_df]:\n",
    "    # Use split to get only the titles from the name\n",
    "    dataset['Title'] = dataset['Name'].str.split(',').str[1].str.split('.').str[0].str.strip()\n",
    "    # Check the initial list of titles.\n",
    "    print(dataset['Title'].value_counts())\n",
    "    print()"
   ]
  },
  {
   "cell_type": "code",
   "execution_count": 19,
   "metadata": {},
   "outputs": [
    {
     "data": {
      "text/plain": [
       "<seaborn.axisgrid.FacetGrid at 0x2136dfbd630>"
      ]
     },
     "execution_count": 19,
     "metadata": {},
     "output_type": "execute_result"
    },
    {
     "data": {
      "image/png": "[encoded data removed]",
      "text/plain": [
       "<Figure size 360x360 with 1 Axes>"
      ]
     },
     "metadata": {},
     "output_type": "display_data"
    }
   ],
   "source": [
    "sns.catplot(x='Survived', y='Title', data=titanic_df, kind ='bar')"
   ]
  },
  {
   "cell_type": "code",
   "execution_count": 20,
   "metadata": {},
   "outputs": [
    {
     "name": "stdout",
     "output_type": "stream",
     "text": [
      "(891, 13)\n",
      "\n",
      "PassengerId      0\n",
      "Survived         0\n",
      "Pclass           0\n",
      "Name             0\n",
      "Sex              0\n",
      "Age            177\n",
      "SibSp            0\n",
      "Parch            0\n",
      "Ticket           0\n",
      "Fare             0\n",
      "Cabin          687\n",
      "Embarked         2\n",
      "Title            0\n",
      "dtype: int64\n",
      "(418, 12)\n",
      "\n",
      "PassengerId      0\n",
      "Pclass           0\n",
      "Name             0\n",
      "Sex              0\n",
      "Age             86\n",
      "SibSp            0\n",
      "Parch            0\n",
      "Ticket           0\n",
      "Fare             1\n",
      "Cabin          327\n",
      "Embarked         0\n",
      "Title            0\n",
      "dtype: int64\n"
     ]
    }
   ],
   "source": [
    "for df in [titanic_df, test_df]:\n",
    "    print(df.shape)\n",
    "    print()\n",
    "    print(df.isna().sum())"
   ]
  },
  {
   "cell_type": "code",
   "execution_count": 21,
   "metadata": {},
   "outputs": [],
   "source": [
    "# Drop rows with nulls for Embarked\n",
    "for df in [titanic_df, test_df]:\n",
    "    df.dropna(subset = ['Embarked'], inplace = True)"
   ]
  },
  {
   "cell_type": "code",
   "execution_count": 22,
   "metadata": {},
   "outputs": [],
   "source": [
    "test_df['Fare'].fillna(test_df[test_df['Pclass'] == 3].Fare.median(), inplace = True)"
   ]
  },
  {
   "cell_type": "code",
   "execution_count": 23,
   "metadata": {},
   "outputs": [
    {
     "name": "stdout",
     "output_type": "stream",
     "text": [
      "Mr        119\n",
      "Miss       36\n",
      "Mrs        17\n",
      "Master      4\n",
      "Dr          1\n",
      "Name: Name, dtype: int64\n",
      "Series([], Name: Name, dtype: int64)\n"
     ]
    }
   ],
   "source": [
    "# Returns titles from the passed in series.\n",
    "def getTitle(series):\n",
    "    return series.str.split(',').str[1].str.split('.').str[0].str.strip()\n",
    "# Prints the count of titles with nulls for the train dataframe.\n",
    "print(getTitle(titanic_df[titanic_df.Age.isnull()].Name).value_counts())\n",
    "# Fill Age median based on Title\n",
    "mr_mask = titanic_df['Title'] == 'Mr'\n",
    "miss_mask = titanic_df['Title'] == 'Miss'\n",
    "mrs_mask = titanic_df['Title'] == 'Mrs'\n",
    "master_mask = titanic_df['Title'] == 'Master'\n",
    "dr_mask = titanic_df['Title'] == 'Dr'\n",
    "titanic_df.loc[mr_mask, 'Age'] = titanic_df.loc[mr_mask, 'Age'].fillna(titanic_df[titanic_df.Title == 'Mr'].Age.mean())\n",
    "titanic_df.loc[miss_mask, 'Age'] = titanic_df.loc[miss_mask, 'Age'].fillna(titanic_df[titanic_df.Title == 'Miss'].Age.mean())\n",
    "titanic_df.loc[mrs_mask, 'Age'] = titanic_df.loc[mrs_mask, 'Age'].fillna(titanic_df[titanic_df.Title == 'Mrs'].Age.mean())\n",
    "titanic_df.loc[master_mask, 'Age'] = titanic_df.loc[master_mask, 'Age'].fillna(titanic_df[titanic_df.Title == 'Master'].Age.mean())\n",
    "titanic_df.loc[dr_mask, 'Age'] = titanic_df.loc[dr_mask, 'Age'].fillna(titanic_df[titanic_df.Title == 'Dr'].Age.mean())\n",
    "print(getTitle(titanic_df[titanic_df.Age.isnull()].Name).value_counts())"
   ]
  },
  {
   "cell_type": "code",
   "execution_count": 24,
   "metadata": {},
   "outputs": [
    {
     "name": "stdout",
     "output_type": "stream",
     "text": [
      "Mr        57\n",
      "Miss      14\n",
      "Mrs       10\n",
      "Master     4\n",
      "Ms         1\n",
      "Name: Name, dtype: int64\n",
      "Series([], Name: Name, dtype: int64)\n"
     ]
    }
   ],
   "source": [
    "# Prints the count of titles with nulls for the validation dataframe.\n",
    "print(getTitle(test_df[test_df.Age.isnull()].Name).value_counts())\n",
    "# Fill Age median based on Title\n",
    "mr_mask = test_df['Title'] == 'Mr'\n",
    "miss_mask = test_df['Title'] == 'Miss'\n",
    "mrs_mask = test_df['Title'] == 'Mrs'\n",
    "master_mask = test_df['Title'] == 'Master'\n",
    "ms_mask = test_df['Title'] == 'Ms'\n",
    "test_df.loc[mr_mask, 'Age'] = test_df.loc[mr_mask, 'Age'].fillna(test_df[test_df.Title == 'Mr'].Age.mean())\n",
    "test_df.loc[miss_mask, 'Age'] = test_df.loc[miss_mask, 'Age'].fillna(test_df[test_df.Title == 'Miss'].Age.mean())\n",
    "test_df.loc[mrs_mask, 'Age'] = test_df.loc[mrs_mask, 'Age'].fillna(test_df[test_df.Title == 'Mrs'].Age.mean())\n",
    "test_df.loc[master_mask, 'Age'] = test_df.loc[master_mask, 'Age'].fillna(test_df[test_df.Title == 'Master'].Age.mean())\n",
    "test_df.loc[ms_mask, 'Age'] = test_df.loc[ms_mask, 'Age'].fillna(test_df[test_df.Title == 'Miss'].Age.mean())\n",
    "print(getTitle(test_df[test_df.Age.isnull()].Name).value_counts())"
   ]
  },
  {
   "cell_type": "code",
   "execution_count": 25,
   "metadata": {},
   "outputs": [
    {
     "name": "stdout",
     "output_type": "stream",
     "text": [
      "PassengerId      0\n",
      "Survived         0\n",
      "Pclass           0\n",
      "Name             0\n",
      "Sex              0\n",
      "Age              0\n",
      "SibSp            0\n",
      "Parch            0\n",
      "Ticket           0\n",
      "Fare             0\n",
      "Cabin          687\n",
      "Embarked         0\n",
      "Title            0\n",
      "dtype: int64\n",
      "PassengerId      0\n",
      "Pclass           0\n",
      "Name             0\n",
      "Sex              0\n",
      "Age              0\n",
      "SibSp            0\n",
      "Parch            0\n",
      "Ticket           0\n",
      "Fare             0\n",
      "Cabin          327\n",
      "Embarked         0\n",
      "Title            0\n",
      "dtype: int64\n"
     ]
    }
   ],
   "source": [
    "print(titanic_df.isna().sum())\n",
    "print(test_df.isna().sum())"
   ]
  },
  {
   "cell_type": "code",
   "execution_count": 26,
   "metadata": {},
   "outputs": [
    {
     "data": {
      "text/plain": [
       "[None, None]"
      ]
     },
     "execution_count": 26,
     "metadata": {},
     "output_type": "execute_result"
    }
   ],
   "source": [
    "titanic_df.drop(columns=['PassengerId'], inplace = True)\n",
    "[df.drop(columns=['Ticket'], inplace = True) for df in [titanic_df, test_df]]"
   ]
  },
  {
   "cell_type": "code",
   "execution_count": 27,
   "metadata": {},
   "outputs": [],
   "source": [
    "[titanic_df, test_df] = [pd.get_dummies(data = df, columns = ['Pclass', 'Sex', 'Embarked']) for df in [titanic_df, test_df]]"
   ]
  },
  {
   "cell_type": "code",
   "execution_count": 28,
   "metadata": {},
   "outputs": [],
   "source": [
    "for df in [titanic_df, test_df]:\n",
    "    df['HasCabin'] = df['Cabin'].notna().astype(int)\n",
    "    df['FamilySize'] = df['SibSp'] + df['Parch'] + 1\n",
    "    df['IsAlone'] = (df['FamilySize'] > 1).astype(int)"
   ]
  },
  {
   "cell_type": "code",
   "execution_count": 29,
   "metadata": {},
   "outputs": [
    {
     "data": {
      "text/plain": [
       "[None, None]"
      ]
     },
     "execution_count": 29,
     "metadata": {},
     "output_type": "execute_result"
    }
   ],
   "source": [
    "[df.drop(columns=['Cabin', 'SibSp', 'Parch'], inplace = True) for df in [titanic_df, test_df]]\n"
   ]
  },
  {
   "cell_type": "code",
   "execution_count": 30,
   "metadata": {},
   "outputs": [],
   "source": [
    "titanic_df['Title'] = titanic_df['Title'].replace('Mlle', 'Miss').replace('Ms', 'Miss').replace('Mme', 'Mrs').replace(['Dr', 'Major', 'Col', 'Rev', 'Lady', 'Jonkheer', 'Don', 'Sir', 'Dona', 'Capt', 'the Countess'], 'Special')\n",
    "test_df['Title'] = test_df['Title'].replace('Mlle', 'Miss').replace('Ms', 'Miss').replace('Mme', 'Mrs').replace(['Dr', 'Major', 'Col', 'Rev', 'Lady', 'Jonkheer', 'Don', 'Sir', 'Dona', 'Capt', 'the Countess'], 'Special')\n",
    "[df.drop(columns=['Name'], inplace = True) for df in [titanic_df, test_df]]\n",
    "[titanic_df, test_df] = [pd.get_dummies(data = df, columns = ['Title']) for df in [titanic_df, test_df]]"
   ]
  },
  {
   "cell_type": "code",
   "execution_count": 31,
   "metadata": {},
   "outputs": [
    {
     "name": "stdout",
     "output_type": "stream",
     "text": [
      "['Survived' 'Age' 'Fare' 'Pclass_1' 'Pclass_2' 'Pclass_3' 'Sex_female'\n",
      " 'Sex_male' 'Embarked_C' 'Embarked_Q' 'Embarked_S' 'HasCabin' 'FamilySize'\n",
      " 'IsAlone' 'Title_Master' 'Title_Miss' 'Title_Mr' 'Title_Mrs'\n",
      " 'Title_Special']\n",
      "['PassengerId' 'Age' 'Fare' 'Pclass_1' 'Pclass_2' 'Pclass_3' 'Sex_female'\n",
      " 'Sex_male' 'Embarked_C' 'Embarked_Q' 'Embarked_S' 'HasCabin' 'FamilySize'\n",
      " 'IsAlone' 'Title_Master' 'Title_Miss' 'Title_Mr' 'Title_Mrs'\n",
      " 'Title_Special']\n"
     ]
    }
   ],
   "source": [
    "# Check the updated dataset\n",
    "print(titanic_df.columns.values)\n",
    "print(test_df.columns.values)"
   ]
  },
  {
   "cell_type": "code",
   "execution_count": 32,
   "metadata": {},
   "outputs": [
    {
     "data": {
      "text/html": [
       "<div>\n",
       "<style scoped>\n",
       "    .dataframe tbody tr th:only-of-type {\n",
       "        vertical-align: middle;\n",
       "    }\n",
       "\n",
       "    .dataframe tbody tr th {\n",
       "        vertical-align: top;\n",
       "    }\n",
       "\n",
       "    .dataframe thead th {\n",
       "        text-align: right;\n",
       "    }\n",
       "</style>\n",
       "<table border=\"1\" class=\"dataframe\">\n",
       "  <thead>\n",
       "    <tr style=\"text-align: right;\">\n",
       "      <th></th>\n",
       "      <th>Survived</th>\n",
       "      <th>Age</th>\n",
       "      <th>Fare</th>\n",
       "      <th>Pclass_1</th>\n",
       "      <th>Pclass_2</th>\n",
       "      <th>Pclass_3</th>\n",
       "      <th>Sex_female</th>\n",
       "      <th>Sex_male</th>\n",
       "      <th>Embarked_C</th>\n",
       "      <th>Embarked_Q</th>\n",
       "      <th>Embarked_S</th>\n",
       "      <th>HasCabin</th>\n",
       "      <th>FamilySize</th>\n",
       "      <th>IsAlone</th>\n",
       "      <th>Title_Master</th>\n",
       "      <th>Title_Miss</th>\n",
       "      <th>Title_Mr</th>\n",
       "      <th>Title_Mrs</th>\n",
       "      <th>Title_Special</th>\n",
       "    </tr>\n",
       "  </thead>\n",
       "  <tbody>\n",
       "    <tr>\n",
       "      <th>Survived</th>\n",
       "      <td>1.000000</td>\n",
       "      <td>-0.094463</td>\n",
       "      <td>0.255290</td>\n",
       "      <td>0.282368</td>\n",
       "      <td>0.095002</td>\n",
       "      <td>-0.320171</td>\n",
       "      <td>0.541585</td>\n",
       "      <td>-0.541585</td>\n",
       "      <td>0.169966</td>\n",
       "      <td>0.004536</td>\n",
       "      <td>-0.151777</td>\n",
       "      <td>0.313435</td>\n",
       "      <td>0.018277</td>\n",
       "      <td>0.206207</td>\n",
       "      <td>0.085998</td>\n",
       "      <td>0.334953</td>\n",
       "      <td>-0.547689</td>\n",
       "      <td>0.340870</td>\n",
       "      <td>-0.011611</td>\n",
       "    </tr>\n",
       "    <tr>\n",
       "      <th>Age</th>\n",
       "      <td>-0.094463</td>\n",
       "      <td>1.000000</td>\n",
       "      <td>0.088161</td>\n",
       "      <td>0.328319</td>\n",
       "      <td>0.008113</td>\n",
       "      <td>-0.288885</td>\n",
       "      <td>-0.123631</td>\n",
       "      <td>0.123631</td>\n",
       "      <td>0.042936</td>\n",
       "      <td>-0.047523</td>\n",
       "      <td>-0.007704</td>\n",
       "      <td>0.230972</td>\n",
       "      <td>-0.280536</td>\n",
       "      <td>-0.194362</td>\n",
       "      <td>-0.411971</td>\n",
       "      <td>-0.307879</td>\n",
       "      <td>0.237607</td>\n",
       "      <td>0.179084</td>\n",
       "      <td>0.193169</td>\n",
       "    </tr>\n",
       "    <tr>\n",
       "      <th>Fare</th>\n",
       "      <td>0.255290</td>\n",
       "      <td>0.088161</td>\n",
       "      <td>1.000000</td>\n",
       "      <td>0.590576</td>\n",
       "      <td>-0.117609</td>\n",
       "      <td>-0.411932</td>\n",
       "      <td>0.179958</td>\n",
       "      <td>-0.179958</td>\n",
       "      <td>0.270731</td>\n",
       "      <td>-0.116684</td>\n",
       "      <td>-0.163758</td>\n",
       "      <td>0.480425</td>\n",
       "      <td>0.218658</td>\n",
       "      <td>0.274079</td>\n",
       "      <td>0.011390</td>\n",
       "      <td>0.118352</td>\n",
       "      <td>-0.181692</td>\n",
       "      <td>0.105511</td>\n",
       "      <td>0.016645</td>\n",
       "    </tr>\n",
       "    <tr>\n",
       "      <th>Pclass_1</th>\n",
       "      <td>0.282368</td>\n",
       "      <td>0.328319</td>\n",
       "      <td>0.590576</td>\n",
       "      <td>1.000000</td>\n",
       "      <td>-0.287653</td>\n",
       "      <td>-0.625395</td>\n",
       "      <td>0.093142</td>\n",
       "      <td>-0.093142</td>\n",
       "      <td>0.299472</td>\n",
       "      <td>-0.154680</td>\n",
       "      <td>-0.165022</td>\n",
       "      <td>0.787224</td>\n",
       "      <td>-0.044054</td>\n",
       "      <td>0.117091</td>\n",
       "      <td>-0.084138</td>\n",
       "      <td>0.017584</td>\n",
       "      <td>-0.093084</td>\n",
       "      <td>0.090147</td>\n",
       "      <td>0.156844</td>\n",
       "    </tr>\n",
       "    <tr>\n",
       "      <th>Pclass_2</th>\n",
       "      <td>0.095002</td>\n",
       "      <td>0.008113</td>\n",
       "      <td>-0.117609</td>\n",
       "      <td>-0.287653</td>\n",
       "      <td>1.000000</td>\n",
       "      <td>-0.567432</td>\n",
       "      <td>0.066459</td>\n",
       "      <td>-0.066459</td>\n",
       "      <td>-0.126039</td>\n",
       "      <td>-0.127705</td>\n",
       "      <td>0.190824</td>\n",
       "      <td>-0.171006</td>\n",
       "      <td>-0.039263</td>\n",
       "      <td>0.038178</td>\n",
       "      <td>0.009658</td>\n",
       "      <td>-0.021130</td>\n",
       "      <td>-0.090085</td>\n",
       "      <td>0.120833</td>\n",
       "      <td>0.056659</td>\n",
       "    </tr>\n",
       "    <tr>\n",
       "      <th>Pclass_3</th>\n",
       "      <td>-0.320171</td>\n",
       "      <td>-0.288885</td>\n",
       "      <td>-0.411932</td>\n",
       "      <td>-0.625395</td>\n",
       "      <td>-0.567432</td>\n",
       "      <td>1.000000</td>\n",
       "      <td>-0.134227</td>\n",
       "      <td>0.134227</td>\n",
       "      <td>-0.154785</td>\n",
       "      <td>0.237035</td>\n",
       "      <td>-0.013594</td>\n",
       "      <td>-0.537496</td>\n",
       "      <td>0.069865</td>\n",
       "      <td>-0.131775</td>\n",
       "      <td>0.064470</td>\n",
       "      <td>0.002098</td>\n",
       "      <td>0.153426</td>\n",
       "      <td>-0.175953</td>\n",
       "      <td>-0.181011</td>\n",
       "    </tr>\n",
       "    <tr>\n",
       "      <th>Sex_female</th>\n",
       "      <td>0.541585</td>\n",
       "      <td>-0.123631</td>\n",
       "      <td>0.179958</td>\n",
       "      <td>0.093142</td>\n",
       "      <td>0.066459</td>\n",
       "      <td>-0.134227</td>\n",
       "      <td>1.000000</td>\n",
       "      <td>-1.000000</td>\n",
       "      <td>0.084520</td>\n",
       "      <td>0.075217</td>\n",
       "      <td>-0.121405</td>\n",
       "      <td>0.135589</td>\n",
       "      <td>0.203191</td>\n",
       "      <td>0.306985</td>\n",
       "      <td>-0.159612</td>\n",
       "      <td>0.694744</td>\n",
       "      <td>-0.866888</td>\n",
       "      <td>0.550071</td>\n",
       "      <td>-0.075300</td>\n",
       "    </tr>\n",
       "    <tr>\n",
       "      <th>Sex_male</th>\n",
       "      <td>-0.541585</td>\n",
       "      <td>0.123631</td>\n",
       "      <td>-0.179958</td>\n",
       "      <td>-0.093142</td>\n",
       "      <td>-0.066459</td>\n",
       "      <td>0.134227</td>\n",
       "      <td>-1.000000</td>\n",
       "      <td>1.000000</td>\n",
       "      <td>-0.084520</td>\n",
       "      <td>-0.075217</td>\n",
       "      <td>0.121405</td>\n",
       "      <td>-0.135589</td>\n",
       "      <td>-0.203191</td>\n",
       "      <td>-0.306985</td>\n",
       "      <td>0.159612</td>\n",
       "      <td>-0.694744</td>\n",
       "      <td>0.866888</td>\n",
       "      <td>-0.550071</td>\n",
       "      <td>0.075300</td>\n",
       "    </tr>\n",
       "    <tr>\n",
       "      <th>Embarked_C</th>\n",
       "      <td>0.169966</td>\n",
       "      <td>0.042936</td>\n",
       "      <td>0.270731</td>\n",
       "      <td>0.299472</td>\n",
       "      <td>-0.126039</td>\n",
       "      <td>-0.154785</td>\n",
       "      <td>0.084520</td>\n",
       "      <td>-0.084520</td>\n",
       "      <td>1.000000</td>\n",
       "      <td>-0.148646</td>\n",
       "      <td>-0.782613</td>\n",
       "      <td>0.211375</td>\n",
       "      <td>-0.046852</td>\n",
       "      <td>0.094513</td>\n",
       "      <td>-0.035471</td>\n",
       "      <td>0.037080</td>\n",
       "      <td>-0.073976</td>\n",
       "      <td>0.069249</td>\n",
       "      <td>0.029928</td>\n",
       "    </tr>\n",
       "    <tr>\n",
       "      <th>Embarked_Q</th>\n",
       "      <td>0.004536</td>\n",
       "      <td>-0.047523</td>\n",
       "      <td>-0.116684</td>\n",
       "      <td>-0.154680</td>\n",
       "      <td>-0.127705</td>\n",
       "      <td>0.237035</td>\n",
       "      <td>0.075217</td>\n",
       "      <td>-0.075217</td>\n",
       "      <td>-0.148646</td>\n",
       "      <td>1.000000</td>\n",
       "      <td>-0.499261</td>\n",
       "      <td>-0.128805</td>\n",
       "      <td>-0.059007</td>\n",
       "      <td>-0.087099</td>\n",
       "      <td>0.010330</td>\n",
       "      <td>0.168434</td>\n",
       "      <td>-0.079283</td>\n",
       "      <td>-0.090045</td>\n",
       "      <td>0.000198</td>\n",
       "    </tr>\n",
       "    <tr>\n",
       "      <th>Embarked_S</th>\n",
       "      <td>-0.151777</td>\n",
       "      <td>-0.007704</td>\n",
       "      <td>-0.163758</td>\n",
       "      <td>-0.165022</td>\n",
       "      <td>0.190824</td>\n",
       "      <td>-0.013594</td>\n",
       "      <td>-0.121405</td>\n",
       "      <td>0.121405</td>\n",
       "      <td>-0.782613</td>\n",
       "      <td>-0.499261</td>\n",
       "      <td>1.000000</td>\n",
       "      <td>-0.104121</td>\n",
       "      <td>0.078197</td>\n",
       "      <td>-0.027982</td>\n",
       "      <td>0.024577</td>\n",
       "      <td>-0.138519</td>\n",
       "      <td>0.114726</td>\n",
       "      <td>-0.003992</td>\n",
       "      <td>-0.026347</td>\n",
       "    </tr>\n",
       "    <tr>\n",
       "      <th>HasCabin</th>\n",
       "      <td>0.313435</td>\n",
       "      <td>0.230972</td>\n",
       "      <td>0.480425</td>\n",
       "      <td>0.787224</td>\n",
       "      <td>-0.171006</td>\n",
       "      <td>-0.537496</td>\n",
       "      <td>0.135589</td>\n",
       "      <td>-0.135589</td>\n",
       "      <td>0.211375</td>\n",
       "      <td>-0.128805</td>\n",
       "      <td>-0.104121</td>\n",
       "      <td>1.000000</td>\n",
       "      <td>-0.006888</td>\n",
       "      <td>0.162116</td>\n",
       "      <td>-0.027050</td>\n",
       "      <td>0.041022</td>\n",
       "      <td>-0.133177</td>\n",
       "      <td>0.120447</td>\n",
       "      <td>0.080723</td>\n",
       "    </tr>\n",
       "    <tr>\n",
       "      <th>FamilySize</th>\n",
       "      <td>0.018277</td>\n",
       "      <td>-0.280536</td>\n",
       "      <td>0.218658</td>\n",
       "      <td>-0.044054</td>\n",
       "      <td>-0.039263</td>\n",
       "      <td>0.069865</td>\n",
       "      <td>0.203191</td>\n",
       "      <td>-0.203191</td>\n",
       "      <td>-0.046852</td>\n",
       "      <td>-0.059007</td>\n",
       "      <td>0.078197</td>\n",
       "      <td>-0.006888</td>\n",
       "      <td>1.000000</td>\n",
       "      <td>0.690654</td>\n",
       "      <td>0.372350</td>\n",
       "      <td>0.108698</td>\n",
       "      <td>-0.340148</td>\n",
       "      <td>0.155742</td>\n",
       "      <td>-0.047650</td>\n",
       "    </tr>\n",
       "    <tr>\n",
       "      <th>IsAlone</th>\n",
       "      <td>0.206207</td>\n",
       "      <td>-0.194362</td>\n",
       "      <td>0.274079</td>\n",
       "      <td>0.117091</td>\n",
       "      <td>0.038178</td>\n",
       "      <td>-0.131775</td>\n",
       "      <td>0.306985</td>\n",
       "      <td>-0.306985</td>\n",
       "      <td>0.094513</td>\n",
       "      <td>-0.087099</td>\n",
       "      <td>-0.027982</td>\n",
       "      <td>0.162116</td>\n",
       "      <td>0.690654</td>\n",
       "      <td>1.000000</td>\n",
       "      <td>0.266840</td>\n",
       "      <td>0.049521</td>\n",
       "      <td>-0.399987</td>\n",
       "      <td>0.365054</td>\n",
       "      <td>-0.031245</td>\n",
       "    </tr>\n",
       "    <tr>\n",
       "      <th>Title_Master</th>\n",
       "      <td>0.085998</td>\n",
       "      <td>-0.411971</td>\n",
       "      <td>0.011390</td>\n",
       "      <td>-0.084138</td>\n",
       "      <td>0.009658</td>\n",
       "      <td>0.064470</td>\n",
       "      <td>-0.159612</td>\n",
       "      <td>0.159612</td>\n",
       "      <td>-0.035471</td>\n",
       "      <td>0.010330</td>\n",
       "      <td>0.024577</td>\n",
       "      <td>-0.027050</td>\n",
       "      <td>0.372350</td>\n",
       "      <td>0.266840</td>\n",
       "      <td>1.000000</td>\n",
       "      <td>-0.110890</td>\n",
       "      <td>-0.255888</td>\n",
       "      <td>-0.087798</td>\n",
       "      <td>-0.035374</td>\n",
       "    </tr>\n",
       "    <tr>\n",
       "      <th>Title_Miss</th>\n",
       "      <td>0.334953</td>\n",
       "      <td>-0.307879</td>\n",
       "      <td>0.118352</td>\n",
       "      <td>0.017584</td>\n",
       "      <td>-0.021130</td>\n",
       "      <td>0.002098</td>\n",
       "      <td>0.694744</td>\n",
       "      <td>-0.694744</td>\n",
       "      <td>0.037080</td>\n",
       "      <td>0.168434</td>\n",
       "      <td>-0.138519</td>\n",
       "      <td>0.041022</td>\n",
       "      <td>0.108698</td>\n",
       "      <td>0.049521</td>\n",
       "      <td>-0.110890</td>\n",
       "      <td>1.000000</td>\n",
       "      <td>-0.602266</td>\n",
       "      <td>-0.206644</td>\n",
       "      <td>-0.083257</td>\n",
       "    </tr>\n",
       "    <tr>\n",
       "      <th>Title_Mr</th>\n",
       "      <td>-0.547689</td>\n",
       "      <td>0.237607</td>\n",
       "      <td>-0.181692</td>\n",
       "      <td>-0.093084</td>\n",
       "      <td>-0.090085</td>\n",
       "      <td>0.153426</td>\n",
       "      <td>-0.866888</td>\n",
       "      <td>0.866888</td>\n",
       "      <td>-0.073976</td>\n",
       "      <td>-0.079283</td>\n",
       "      <td>0.114726</td>\n",
       "      <td>-0.133177</td>\n",
       "      <td>-0.340148</td>\n",
       "      <td>-0.399987</td>\n",
       "      <td>-0.255888</td>\n",
       "      <td>-0.602266</td>\n",
       "      <td>1.000000</td>\n",
       "      <td>-0.476850</td>\n",
       "      <td>-0.192123</td>\n",
       "    </tr>\n",
       "    <tr>\n",
       "      <th>Title_Mrs</th>\n",
       "      <td>0.340870</td>\n",
       "      <td>0.179084</td>\n",
       "      <td>0.105511</td>\n",
       "      <td>0.090147</td>\n",
       "      <td>0.120833</td>\n",
       "      <td>-0.175953</td>\n",
       "      <td>0.550071</td>\n",
       "      <td>-0.550071</td>\n",
       "      <td>0.069249</td>\n",
       "      <td>-0.090045</td>\n",
       "      <td>-0.003992</td>\n",
       "      <td>0.120447</td>\n",
       "      <td>0.155742</td>\n",
       "      <td>0.365054</td>\n",
       "      <td>-0.087798</td>\n",
       "      <td>-0.206644</td>\n",
       "      <td>-0.476850</td>\n",
       "      <td>1.000000</td>\n",
       "      <td>-0.065919</td>\n",
       "    </tr>\n",
       "    <tr>\n",
       "      <th>Title_Special</th>\n",
       "      <td>-0.011611</td>\n",
       "      <td>0.193169</td>\n",
       "      <td>0.016645</td>\n",
       "      <td>0.156844</td>\n",
       "      <td>0.056659</td>\n",
       "      <td>-0.181011</td>\n",
       "      <td>-0.075300</td>\n",
       "      <td>0.075300</td>\n",
       "      <td>0.029928</td>\n",
       "      <td>0.000198</td>\n",
       "      <td>-0.026347</td>\n",
       "      <td>0.080723</td>\n",
       "      <td>-0.047650</td>\n",
       "      <td>-0.031245</td>\n",
       "      <td>-0.035374</td>\n",
       "      <td>-0.083257</td>\n",
       "      <td>-0.192123</td>\n",
       "      <td>-0.065919</td>\n",
       "      <td>1.000000</td>\n",
       "    </tr>\n",
       "  </tbody>\n",
       "</table>\n",
       "</div>"
      ],
      "text/plain": [
       "               Survived       Age      Fare  Pclass_1  Pclass_2  Pclass_3  \\\n",
       "Survived       1.000000 -0.094463  0.255290  0.282368  0.095002 -0.320171   \n",
       "Age           -0.094463  1.000000  0.088161  0.328319  0.008113 -0.288885   \n",
       "Fare           0.255290  0.088161  1.000000  0.590576 -0.117609 -0.411932   \n",
       "Pclass_1       0.282368  0.328319  0.590576  1.000000 -0.287653 -0.625395   \n",
       "Pclass_2       0.095002  0.008113 -0.117609 -0.287653  1.000000 -0.567432   \n",
       "Pclass_3      -0.320171 -0.288885 -0.411932 -0.625395 -0.567432  1.000000   \n",
       "Sex_female     0.541585 -0.123631  0.179958  0.093142  0.066459 -0.134227   \n",
       "Sex_male      -0.541585  0.123631 -0.179958 -0.093142 -0.066459  0.134227   \n",
       "Embarked_C     0.169966  0.042936  0.270731  0.299472 -0.126039 -0.154785   \n",
       "Embarked_Q     0.004536 -0.047523 -0.116684 -0.154680 -0.127705  0.237035   \n",
       "Embarked_S    -0.151777 -0.007704 -0.163758 -0.165022  0.190824 -0.013594   \n",
       "HasCabin       0.313435  0.230972  0.480425  0.787224 -0.171006 -0.537496   \n",
       "FamilySize     0.018277 -0.280536  0.218658 -0.044054 -0.039263  0.069865   \n",
       "IsAlone        0.206207 -0.194362  0.274079  0.117091  0.038178 -0.131775   \n",
       "Title_Master   0.085998 -0.411971  0.011390 -0.084138  0.009658  0.064470   \n",
       "Title_Miss     0.334953 -0.307879  0.118352  0.017584 -0.021130  0.002098   \n",
       "Title_Mr      -0.547689  0.237607 -0.181692 -0.093084 -0.090085  0.153426   \n",
       "Title_Mrs      0.340870  0.179084  0.105511  0.090147  0.120833 -0.175953   \n",
       "Title_Special -0.011611  0.193169  0.016645  0.156844  0.056659 -0.181011   \n",
       "\n",
       "               Sex_female  Sex_male  Embarked_C  Embarked_Q  Embarked_S  \\\n",
       "Survived         0.541585 -0.541585    0.169966    0.004536   -0.151777   \n",
       "Age             -0.123631  0.123631    0.042936   -0.047523   -0.007704   \n",
       "Fare             0.179958 -0.179958    0.270731   -0.116684   -0.163758   \n",
       "Pclass_1         0.093142 -0.093142    0.299472   -0.154680   -0.165022   \n",
       "Pclass_2         0.066459 -0.066459   -0.126039   -0.127705    0.190824   \n",
       "Pclass_3        -0.134227  0.134227   -0.154785    0.237035   -0.013594   \n",
       "Sex_female       1.000000 -1.000000    0.084520    0.075217   -0.121405   \n",
       "Sex_male        -1.000000  1.000000   -0.084520   -0.075217    0.121405   \n",
       "Embarked_C       0.084520 -0.084520    1.000000   -0.148646   -0.782613   \n",
       "Embarked_Q       0.075217 -0.075217   -0.148646    1.000000   -0.499261   \n",
       "Embarked_S      -0.121405  0.121405   -0.782613   -0.499261    1.000000   \n",
       "HasCabin         0.135589 -0.135589    0.211375   -0.128805   -0.104121   \n",
       "FamilySize       0.203191 -0.203191   -0.046852   -0.059007    0.078197   \n",
       "IsAlone          0.306985 -0.306985    0.094513   -0.087099   -0.027982   \n",
       "Title_Master    -0.159612  0.159612   -0.035471    0.010330    0.024577   \n",
       "Title_Miss       0.694744 -0.694744    0.037080    0.168434   -0.138519   \n",
       "Title_Mr        -0.866888  0.866888   -0.073976   -0.079283    0.114726   \n",
       "Title_Mrs        0.550071 -0.550071    0.069249   -0.090045   -0.003992   \n",
       "Title_Special   -0.075300  0.075300    0.029928    0.000198   -0.026347   \n",
       "\n",
       "               HasCabin  FamilySize   IsAlone  Title_Master  Title_Miss  \\\n",
       "Survived       0.313435    0.018277  0.206207      0.085998    0.334953   \n",
       "Age            0.230972   -0.280536 -0.194362     -0.411971   -0.307879   \n",
       "Fare           0.480425    0.218658  0.274079      0.011390    0.118352   \n",
       "Pclass_1       0.787224   -0.044054  0.117091     -0.084138    0.017584   \n",
       "Pclass_2      -0.171006   -0.039263  0.038178      0.009658   -0.021130   \n",
       "Pclass_3      -0.537496    0.069865 -0.131775      0.064470    0.002098   \n",
       "Sex_female     0.135589    0.203191  0.306985     -0.159612    0.694744   \n",
       "Sex_male      -0.135589   -0.203191 -0.306985      0.159612   -0.694744   \n",
       "Embarked_C     0.211375   -0.046852  0.094513     -0.035471    0.037080   \n",
       "Embarked_Q    -0.128805   -0.059007 -0.087099      0.010330    0.168434   \n",
       "Embarked_S    -0.104121    0.078197 -0.027982      0.024577   -0.138519   \n",
       "HasCabin       1.000000   -0.006888  0.162116     -0.027050    0.041022   \n",
       "FamilySize    -0.006888    1.000000  0.690654      0.372350    0.108698   \n",
       "IsAlone        0.162116    0.690654  1.000000      0.266840    0.049521   \n",
       "Title_Master  -0.027050    0.372350  0.266840      1.000000   -0.110890   \n",
       "Title_Miss     0.041022    0.108698  0.049521     -0.110890    1.000000   \n",
       "Title_Mr      -0.133177   -0.340148 -0.399987     -0.255888   -0.602266   \n",
       "Title_Mrs      0.120447    0.155742  0.365054     -0.087798   -0.206644   \n",
       "Title_Special  0.080723   -0.047650 -0.031245     -0.035374   -0.083257   \n",
       "\n",
       "               Title_Mr  Title_Mrs  Title_Special  \n",
       "Survived      -0.547689   0.340870      -0.011611  \n",
       "Age            0.237607   0.179084       0.193169  \n",
       "Fare          -0.181692   0.105511       0.016645  \n",
       "Pclass_1      -0.093084   0.090147       0.156844  \n",
       "Pclass_2      -0.090085   0.120833       0.056659  \n",
       "Pclass_3       0.153426  -0.175953      -0.181011  \n",
       "Sex_female    -0.866888   0.550071      -0.075300  \n",
       "Sex_male       0.866888  -0.550071       0.075300  \n",
       "Embarked_C    -0.073976   0.069249       0.029928  \n",
       "Embarked_Q    -0.079283  -0.090045       0.000198  \n",
       "Embarked_S     0.114726  -0.003992      -0.026347  \n",
       "HasCabin      -0.133177   0.120447       0.080723  \n",
       "FamilySize    -0.340148   0.155742      -0.047650  \n",
       "IsAlone       -0.399987   0.365054      -0.031245  \n",
       "Title_Master  -0.255888  -0.087798      -0.035374  \n",
       "Title_Miss    -0.602266  -0.206644      -0.083257  \n",
       "Title_Mr       1.000000  -0.476850      -0.192123  \n",
       "Title_Mrs     -0.476850   1.000000      -0.065919  \n",
       "Title_Special -0.192123  -0.065919       1.000000  "
      ]
     },
     "execution_count": 32,
     "metadata": {},
     "output_type": "execute_result"
    }
   ],
   "source": [
    "# Check the correlation with the updated datasets\n",
    "titanic_df.corr()"
   ]
  },
  {
   "cell_type": "code",
   "execution_count": 33,
   "metadata": {},
   "outputs": [
    {
     "name": "stdout",
     "output_type": "stream",
     "text": [
      "(800, 12) (89, 12)\n"
     ]
    }
   ],
   "source": [
    "# Use only the features with a coeefficient greater than 0.3\n",
    "X = titanic_df[['Fare', 'Pclass_1', 'Pclass_3', 'Sex_female', 'Embarked_C', 'Embarked_S', 'HasCabin', 'IsAlone', 'Title_Master', 'Title_Miss', 'Title_Mr', 'Title_Mrs']]\n",
    "y = titanic_df['Survived']\n",
    "X_train, X_test, y_train, y_test = train_test_split(X, y, test_size = 0.1)\n",
    "print(X_train.shape, X_test.shape)"
   ]
  },
  {
   "cell_type": "code",
   "execution_count": 34,
   "metadata": {},
   "outputs": [
    {
     "data": {
      "text/plain": [
       "0.92625"
      ]
     },
     "execution_count": 34,
     "metadata": {},
     "output_type": "execute_result"
    }
   ],
   "source": [
    "random_forest = RandomForestClassifier(n_estimators=1000)\n",
    "\n",
    "random_forest.fit(X_train, y_train)\n",
    "\n",
    "y_pred = random_forest.predict(X_test)\n",
    "\n",
    "random_forest.score(X_train, y_train)"
   ]
  }
 ],
 "metadata": {
  "kernelspec": {
   "display_name": "Python 3",
   "language": "python",
   "name": "python3"
  },
  "language_info": {
   "codemirror_mode": {
    "name": "ipython",
    "version": 3
   },
   "file_extension": ".py",
   "mimetype": "text/x-python",
   "name": "python",
   "nbconvert_exporter": "python",
   "pygments_lexer": "ipython3",
   "version": "3.6.5"
  }
 },
 "nbformat": 4,
 "nbformat_minor": 2
}
